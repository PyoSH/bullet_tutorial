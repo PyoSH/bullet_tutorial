{
 "cells": [
  {
   "cell_type": "markdown",
   "id": "9bfe3e9f",
   "metadata": {},
   "source": [
    "# PyBullet을 이용한 진자(Pendulum) 강화학습 환경\n",
    "\n",
    "MATLAB의 진자 예제와 유사한 강화학습 환경을 PyBullet으로 구성\n",
    "\n",
    "- **상태**: `[cos(theta), sin(theta), theta_dot]`\n",
    "- **행동**: 진자 관절에 가하는 토크 (-2.0 ~ 2.0)\n",
    "- **보상**: 진자가 위로 설수록, 각속도와 토크가 작을수록 높은 보상 획득."
   ]
  },
  {
   "cell_type": "markdown",
   "id": "b29e2a3a",
   "metadata": {},
   "source": [
    "### 1단계: URDF 파일 생성 (Code)\n",
    "\n",
    "Jupyter Notebook의 매직 명령어 %%writefile을 사용하면 현재 디렉토리에 바로 파일을 생성할 수 있어 편리하다고 함!"
   ]
  },
  {
   "cell_type": "code",
   "execution_count": null,
   "id": "72e883b8",
   "metadata": {},
   "outputs": [],
   "source": [
    "%%writefile models/pendulum.urdf\n",
    "<?xml version=\"1.0\"?>\n",
    "<robot name=\"pendulum\">\n",
    "  <link name=\"base\"/>\n",
    "\n",
    "  <link name=\"pole\">\n",
    "    <inertial>\n",
    "      <mass value=\"1.0\"/>\n",
    "      <inertia ixx=\"0.083\" ixy=\"0.0\" ixz=\"0.0\" iyy=\"0.083\" iyz=\"0.0\" izz=\"0.005\"/>\n",
    "    </inertial>\n",
    "    <visual>\n",
    "      <geometry>\n",
    "        <cylinder length=\"1\" radius=\"0.05\"/>\n",
    "      </geometry>\n",
    "      <material name=\"red\">\n",
    "          <color rgba=\"1 0.2 0.2 1\"/>\n",
    "      </material>\n",
    "    </visual>\n",
    "    <collision>\n",
    "      <geometry>\n",
    "        <cylinder length=\"1\" radius=\"0.05\"/>\n",
    "      </geometry>\n",
    "    </collision>\n",
    "  </link>\n",
    "\n",
    "  <joint name=\"hinge\" type=\"revolute\">\n",
    "    <parent link=\"base\"/>\n",
    "    <child link=\"pole\"/>\n",
    "    <axis xyz=\"0 1 0\"/>\n",
    "    <limit effort=\"3\" lower=\"-3.1415\" upper=\"3.1415\" velocity=\"15\"/>\n",
    "    <origin rpy=\"0 0 0\" xyz=\"0 0 0.5\"/>\n",
    "  </joint>\n",
    "\n",
    "</robot>"
   ]
  },
  {
   "cell_type": "markdown",
   "id": "eddf58e1",
   "metadata": {},
   "source": [
    "### 2단계: 라이브러리 임포트 (Code)\n",
    "\n",
    "환경 구성과 테스트에 필요한 라이브러리들을 불러오기"
   ]
  },
  {
   "cell_type": "code",
   "execution_count": 2,
   "id": "03b9f31b",
   "metadata": {
    "ExecuteTime": {
     "end_time": "2025-10-01T04:21:10.441336Z",
     "start_time": "2025-10-01T04:21:10.438894Z"
    }
   },
   "outputs": [
    {
     "name": "stdout",
     "output_type": "stream",
     "text": [
      "라이브러리 임포트 완료!\n"
     ]
    }
   ],
   "source": [
    "import gymnasium as gym\n",
    "from gymnasium import spaces\n",
    "import pybullet as p\n",
    "import pybullet_data\n",
    "import numpy as np\n",
    "import cv2\n",
    "import time\n",
    "import os\n",
    "\n",
    "print(\"라이브러리 임포트 완료!\")"
   ]
  },
  {
   "cell_type": "markdown",
   "id": "7c835052ad183d2e",
   "metadata": {},
   "source": [
    "## 3단계: 시뮬 구성하기"
   ]
  },
  {
   "cell_type": "markdown",
   "id": "c3b38991",
   "metadata": {},
   "source": [
    "### 3-1 막대와 바닥과 중력 \n",
    "우선, 내가 만든 urdf의 조인트에 대해서 정보를 좀 얻어오자."
   ]
  },
  {
   "cell_type": "code",
   "execution_count": 3,
   "id": "49d0068930734356",
   "metadata": {
    "ExecuteTime": {
     "end_time": "2025-10-01T04:21:14.820243Z",
     "start_time": "2025-10-01T04:21:14.808350Z"
    }
   },
   "outputs": [
    {
     "name": "stdout",
     "output_type": "stream",
     "text": [
      "'models/pendulum.urdf'에 총 2개의 조인트가 있습니다.\n",
      "----------------------------------------\n",
      "  인덱스 (Index): 0\n",
      "  이름 (Name): fixed_base\n",
      "  타입 (Type): 4 (REVOLUTE=0, FIXED=4 등)\n",
      "  연결된 링크 (child Link): base\n",
      "----------------------------------------\n",
      "  인덱스 (Index): 1\n",
      "  이름 (Name): hinge\n",
      "  타입 (Type): 0 (REVOLUTE=0, FIXED=4 등)\n",
      "  연결된 링크 (child Link): pole\n",
      "----------------------------------------\n"
     ]
    }
   ],
   "source": [
    "URDF_PATH = \"models/pendulum.urdf\" # 실제 URDF 파일 경로\n",
    "\n",
    "try:\n",
    "    client = p.connect(p.DIRECT)\n",
    "    p.setAdditionalSearchPath(pybullet_data.getDataPath())\n",
    "    \n",
    "    robot_id = p.loadURDF(URDF_PATH)\n",
    "\n",
    "    # 1. 전체 조인트 개수 확인\n",
    "    num_joints = p.getNumJoints(robot_id)\n",
    "    print(f\"'{URDF_PATH}'에 총 {num_joints}개의 조인트가 있습니다.\")\n",
    "    print(\"-\" * 40)\n",
    "\n",
    "    # 2. 각 조인트의 정보 출력\n",
    "    for i in range(num_joints):\n",
    "        joint_info = p.getJointInfo(robot_id, i)\n",
    "        \n",
    "        joint_index = joint_info[0]\n",
    "        joint_name = joint_info[1].decode('utf-8') # byte string을 일반 string으로 변환\n",
    "        joint_type = joint_info[2]\n",
    "        child_link_name = joint_info[12].decode('utf-8')\n",
    "        \n",
    "        print(f\"  인덱스 (Index): {joint_index}\")\n",
    "        print(f\"  이름 (Name): {joint_name}\")\n",
    "        print(f\"  타입 (Type): {joint_type} (REVOLUTE=0, FIXED=4 등)\")\n",
    "        print(f\"  연결된 링크 (child Link): {child_link_name}\")\n",
    "        print(\"-\" * 40)\n",
    "\n",
    "finally:\n",
    "    if p.isConnected():\n",
    "        p.disconnect()"
   ]
  },
  {
   "cell_type": "code",
   "execution_count": 4,
   "id": "845cb9182b08beb3",
   "metadata": {
    "ExecuteTime": {
     "end_time": "2025-10-01T04:21:55.605591Z",
     "start_time": "2025-10-01T04:21:18.813276Z"
    }
   },
   "outputs": [
    {
     "name": "stdout",
     "output_type": "stream",
     "text": [
      "/models/stick.urdf\n",
      "0\n",
      "100\n",
      "200\n",
      "300\n",
      "400\n",
      "500\n",
      "600\n",
      "700\n",
      "800\n",
      "900\n",
      "1000\n",
      "1100\n"
     ]
    },
    {
     "name": "stderr",
     "output_type": "stream",
     "text": [
      "[ERROR:0@53.201] global cap_ffmpeg_impl.hpp:3207 open Could not find encoder for codec_id=27, error: Encoder not found\n",
      "[ERROR:0@53.201] global cap_ffmpeg_impl.hpp:3285 open VIDEOIO/FFMPEG: Failed to initialize VideoWriter\n"
     ]
    }
   ],
   "source": [
    "width, height = 640, 480\n",
    "frames = []\n",
    "\n",
    "p.connect(p.DIRECT)\n",
    "p.setAdditionalSearchPath(pybullet_data.getDataPath())\n",
    "p.loadURDF(\"plane.urdf\")\n",
    "p.setGravity(0, 0, -9.81)\n",
    "urdf_path = \"/models/stick.urdf\"\n",
    "print(urdf_path)\n",
    "\n",
    "pendulum_id = p.loadURDF(urdf_path, basePosition=[0, 0, 1], useFixedBase=False)\n",
    "\n",
    "for step in range(240*5):\n",
    "    p.stepSimulation()\n",
    "\n",
    "    img = p.getCameraImage(width, height, renderer=p.ER_TINY_RENDERER)\n",
    "    rgb = np.array(img[2]).reshape((height, width, 4))[:,:,:3]\n",
    "    frames.append(rgb)\n",
    "\n",
    "    if step % 100 == 0:\n",
    "        print(step)\n",
    "        \n",
    "video = cv2.VideoWriter('video/test.mp4', cv2.VideoWriter.fourcc(*'avc1'), 20.0, (width, height))\n",
    "for frame in frames:\n",
    "    video.write(cv2.cvtColor(frame, cv2.COLOR_RGB2BGR))\n",
    "video.release()\n",
    "\n",
    "p.disconnect()"
   ]
  },
  {
   "cell_type": "markdown",
   "id": "11c6264b3088dbd1",
   "metadata": {},
   "source": [
    "이걸 돌리고 나면 GIF 파일로 확인할 수 있는 것처럼 막대가 낙하하고, 바닥에 부딪혀 넘어지는 것이 확인되어야 한다.\n",
    "\n",
    "![stick_plane_gravity](docs/step_3_1.gif) "
   ]
  },
  {
   "cell_type": "markdown",
   "id": "e6b880d42468f303",
   "metadata": {},
   "source": [
    "### 3-2 고정되고, 회전하는 막대\n",
    "우선, pybullet에서 지원하는 기능을 통해서 카메라 시점을 좀 움직여보자. "
   ]
  },
  {
   "cell_type": "code",
   "execution_count": 6,
   "id": "117055f6800ab7dc",
   "metadata": {
    "ExecuteTime": {
     "end_time": "2025-09-14T10:58:19.480668Z",
     "start_time": "2025-09-14T10:58:19.476221Z"
    }
   },
   "outputs": [],
   "source": [
    "# 카메라 시점 정의하기\n",
    "cam_eye_pos = [0, 3, 1.5]      # 카메라 위치\n",
    "cam_target_pos = [0, 0, 1]     # 바라볼 목표 지점\n",
    "cam_up_vector = [0, 0, 1]      # 카메라의 위쪽 방향\n",
    "\n",
    "# 2. 뷰 행렬과 투영 행렬 계산\n",
    "view_matrix = p.computeViewMatrix(\n",
    "    cameraEyePosition=cam_eye_pos,\n",
    "    cameraTargetPosition=cam_target_pos,\n",
    "    cameraUpVector=cam_up_vector\n",
    ")\n",
    "\n",
    "projection_matrix = p.computeProjectionMatrixFOV(\n",
    "    fov=60.0,\n",
    "    aspect=float(width) / height,\n",
    "    nearVal=0.1,\n",
    "    farVal=100.0\n",
    ")"
   ]
  },
  {
   "cell_type": "markdown",
   "id": "2af6e91153a457e4",
   "metadata": {},
   "source": [
    "그리고 이건 설정한 시점과 만든 urdf를 가지고 pybullet 환경을 만드는 것이다.\n",
    "\n",
    "목적: inverted pendulum 환경은 중력이 제대로 반영된 환경인가? inverted pendulm 객체는 올바르게 설계되었는가?"
   ]
  },
  {
   "cell_type": "code",
   "execution_count": 8,
   "id": "d85d2518abc32ad7",
   "metadata": {
    "ExecuteTime": {
     "end_time": "2025-09-14T11:07:44.791437Z",
     "start_time": "2025-09-14T11:06:53.581161Z"
    }
   },
   "outputs": [
    {
     "name": "stdout",
     "output_type": "stream",
     "text": [
      "startThreads creating 1 threads.\n",
      "starting thread 0\n",
      "models/pendulum.urdf\n",
      "진자를 60도 위치에서 시작\n",
      "started thread 0 \n",
      "argc=2\n",
      "argv[0] = --unused\n",
      "argv[1] = --start_demo_name=Physics Server\n",
      "ExampleBrowserThreadFunc started\n",
      "X11 functions dynamically loaded using dlopen/dlsym OK!\n",
      "X11 functions dynamically loaded using dlopen/dlsym OK!\n",
      "Creating context\n",
      "Created GL 3.3 context\n",
      "Direct GLX rendering context obtained\n",
      "Making context current\n",
      "GL_VENDOR=NVIDIA Corporation\n",
      "GL_RENDERER=NVIDIA GeForce RTX 4080 SUPER/PCIe/SSE2\n",
      "GL_VERSION=3.3.0 NVIDIA 580.65.06\n",
      "GL_SHADING_LANGUAGE_VERSION=3.30 NVIDIA via Cg compiler\n",
      "pthread_getconcurrency()=0\n",
      "Version = 3.3.0 NVIDIA 580.65.06\n",
      "Vendor = NVIDIA Corporation\n",
      "Renderer = NVIDIA GeForce RTX 4080 SUPER/PCIe/SSE2\n",
      "b3Printf: Selected demo: Physics Server\n",
      "startThreads creating 1 threads.\n",
      "starting thread 0\n",
      "started thread 0 \n",
      "MotionThreadFunc thread started\n",
      "ven = NVIDIA Corporation\n",
      "ven = NVIDIA Corporation\n",
      "0\n",
      "100\n",
      "200\n",
      "300\n",
      "400\n",
      "500\n",
      "600\n"
     ]
    },
    {
     "ename": "",
     "evalue": "",
     "output_type": "error",
     "traceback": [
      "\u001b[1;31mThe Kernel crashed while executing code in the current cell or a previous cell. \n",
      "\u001b[1;31mPlease review the code in the cell(s) to identify a possible cause of the failure. \n",
      "\u001b[1;31mClick <a href='https://aka.ms/vscodeJupyterKernelCrash'>here</a> for more info. \n",
      "\u001b[1;31mView Jupyter <a href='command:jupyter.viewOutput'>log</a> for further details."
     ]
    }
   ],
   "source": [
    "width, height = 640, 480\n",
    "frames = []\n",
    "\n",
    "p.connect(p.GUI)\n",
    "p.setAdditionalSearchPath(pybullet_data.getDataPath())\n",
    "p.loadURDF(\"plane.urdf\")\n",
    "p.setGravity(0, 0, -9.81)\n",
    "urdf_path = \"models/pendulum.urdf\"\n",
    "print(urdf_path)\n",
    "\n",
    "poleStartPos = [0,0,0]\n",
    "poleStartOrientation = p.getQuaternionFromEuler([0,0,0])\n",
    "pendulum_id = p.loadURDF(urdf_path, basePosition=poleStartPos, baseOrientation=poleStartOrientation, useFixedBase=True)\n",
    "\n",
    "initial_angle = np.pi*(1/3)\n",
    "p.resetJointState(\n",
    "    bodyUniqueId=pendulum_id,\n",
    "    jointIndex=1,\n",
    "    targetValue=initial_angle\n",
    ")\n",
    "print(f\"진자를 {np.rad2deg(initial_angle):.0f}도 위치에서 시작\")\n",
    "\n",
    "p.setJointMotorControl2(\n",
    "        bodyUniqueId=pendulum_id,\n",
    "        jointIndex=1,\n",
    "        controlMode=p.VELOCITY_CONTROL,\n",
    "        force=0\n",
    "    )\n",
    "\n",
    "for step in range(240*10):\n",
    "    p.stepSimulation()\n",
    "\n",
    "    img = p.getCameraImage(width, height, \n",
    "                           viewMatrix=view_matrix,\n",
    "                           projectionMatrix=projection_matrix,\n",
    "                           renderer=p.ER_TINY_RENDERER)\n",
    "    rgb = np.array(img[2]).reshape((height, width, 4))[:,:,:3]\n",
    "    frames.append(rgb)\n",
    "\n",
    "    if step % 100 == 0:\n",
    "        print(step)\n",
    "\n",
    "video = cv2.VideoWriter('video/test.mp4', cv2.VideoWriter.fourcc(*'avc1'), 20.0, (width, height))\n",
    "for frame in frames:\n",
    "    video.write(cv2.cvtColor(frame, cv2.COLOR_RGB2BGR))\n",
    "video.release()\n",
    "\n",
    "p.disconnect()"
   ]
  },
  {
   "cell_type": "markdown",
   "id": "acc583f9227baf32",
   "metadata": {},
   "source": [
    "직접 좌표계를 그리니까 훨 낫다. \n",
    "\n",
    "![stick_plane_gravity](docs/step_3_2_with_weight.gif)\n",
    "![stick_plane_gravity](docs/step_3_2_wo_weight.gif) \n",
    "\n",
    "보니까, 무게추가 꼭 필요할 줄 알았는데 urdf를 잘 작성하고 나니 큰 문제는 아니었군.\n",
    "그래프 뽑는 것도 함수로 만들어놓으면 편하겠다! "
   ]
  },
  {
   "cell_type": "markdown",
   "id": "232e69d4",
   "metadata": {},
   "source": [
    "### 3-3단계: 클래스로 PyBullet 진자 환경 정의하기\n",
    "여기에 클래스 작성하기"
   ]
  },
  {
   "cell_type": "code",
   "execution_count": null,
   "id": "663c71be",
   "metadata": {
    "ExecuteTime": {
     "end_time": "2025-10-01T04:33:37.737338Z",
     "start_time": "2025-10-01T04:33:37.720446Z"
    }
   },
   "outputs": [
    {
     "name": "stdout",
     "output_type": "stream",
     "text": [
      "라이브러리 임포트 완료!\n",
      "클래스 정의 완료!\n"
     ]
    }
   ],
   "source": [
    "import gymnasium as gym\n",
    "from gymnasium import spaces\n",
    "import pybullet as p\n",
    "import pybullet_data\n",
    "import numpy as np\n",
    "import cv2\n",
    "import time\n",
    "import os\n",
    "\n",
    "print(\"라이브러리 임포트 완료!\")\n",
    "\n",
    "class PendulumEnv(gym.Env):\n",
    "    metadata = {\"render_modes\":[\"human\", \"rgb_array\"]}\n",
    "    def __init__(self, render_mode=\"human\", video_path=None):\n",
    "        super(PendulumEnv, self).__init__()\n",
    "        \n",
    "        self.render_mode = render_mode\n",
    "        if self.render_mode == 'human':\n",
    "            try:\n",
    "                p.disconnect()\n",
    "            except p.error:\n",
    "                pass\n",
    "            self.client = p.connect(p.GUI)\n",
    "        else:\n",
    "            self.client = p.connect(p.DIRECT)\n",
    "\n",
    "        self.g = 9.81\n",
    "        self.maxTorque = 2.0\n",
    "\n",
    "        # 시뮬 동영상 기록 (1) 카메라 시점 정의\n",
    "        cam_eye_pos = [0, 3, 1.5]      # 카메라 위치\n",
    "        cam_target_pos = [0, 0, 1]     # 바라볼 목표 지점\n",
    "        cam_up_vector = [0, 0, 1]      # 카메라의 위쪽 방향\n",
    "        self._render_width=640\n",
    "        self._render_height=480\n",
    "\n",
    "        # 시뮬 동영상 기록 (2) 뷰 행렬과 투영 행렬 계산\n",
    "        self.view_matrix = p.computeViewMatrix(\n",
    "            cameraEyePosition=cam_eye_pos,\n",
    "            cameraTargetPosition=cam_target_pos,\n",
    "            cameraUpVector=cam_up_vector\n",
    "        )\n",
    "        self.projection_matrix = p.computeProjectionMatrixFOV(\n",
    "            fov=60.0,\n",
    "            aspect=float(self._render_width) / self._render_height,\n",
    "            nearVal=0.1,\n",
    "            farVal=100.0\n",
    "        )\n",
    "        self.frames = []\n",
    "        self.videoPath = video_path\n",
    "        \n",
    "        # 모델 불러오기 \n",
    "        p.setAdditionalSearchPath(pybullet_data.getDataPath())\n",
    "        p.loadURDF(\"plane.urdf\")\n",
    "        p.setGravity(0, 0, -self.g)\n",
    "\n",
    "        modelPath=\"models/pendulum.urdf\"\n",
    "        print(f\"model path: {modelPath}\")\n",
    "        modelStartPos = [0, 0, 0]\n",
    "        modelStartOri = p.getQuaternionFromEuler([0, 0, 0])\n",
    "        self.modelId = p.loadURDF(modelPath, basePosition=modelStartPos, baseOrientation=modelStartOri, useFixedBase=True)\n",
    "\n",
    "        # 연속 행동 공간.\n",
    "        # self.actionSpace = spaces.Box(low=-self.maxTorque, high=self.maxTorque, shape=(1,), dtype=np.float32)\n",
    "\n",
    "        # 이산 행동 공간 \n",
    "        self.actionSpace = spaces.Discrete(3, start=-1)\n",
    "        \n",
    "        # 관측 공간 정의하기.\n",
    "        high = np.array([1.0, 1.0, 15.0], dtype=np.float32) # 여기에서 최대 속력 15 괜춘?\n",
    "        self.observationSpace=spaces.Box(low=-high, high=high, dtype=np.float32)\n",
    "\n",
    "        self.stepCounter = 0\n",
    "    \n",
    "    def reset(self, seed=None, options=None):\n",
    "        super().reset(seed=seed)\n",
    "        self.stepCounter = 0\n",
    "        # self.frames = []\n",
    "\n",
    "        # 모델 관절 초기화 \n",
    "        initialAngle= np.pi*(1) \n",
    "        initVelocity = 0\n",
    "        # initialAngle= self.np_random.uniform(low=-np.pi, high=np.pi) \n",
    "        # initVelocity = self.np_random.uniform(low=-1.0, high=1.0)\n",
    "\n",
    "        p.resetJointState(\n",
    "            bodyUniqueId=self.modelId,\n",
    "            jointIndex=1,\n",
    "            targetValue=initialAngle,\n",
    "            targetVelocity=initVelocity\n",
    "        )\n",
    "        print(f\"진자를 {np.rad2deg(initialAngle):.0f}도 위치에서 시작\")\n",
    "\n",
    "        p.setJointMotorControl2(\n",
    "            bodyUniqueId=self.modelId,\n",
    "            jointIndex=1,\n",
    "            controlMode=p.VELOCITY_CONTROL,\n",
    "            force=0\n",
    "        )\n",
    "        \n",
    "        return self._get_obs(), {}\n",
    "    \n",
    "    def step(self, action):\n",
    "        torque = float(action) * self.maxTorque\n",
    "        # print(f\"torque value: {torque}\")    \n",
    "\n",
    "        p.setJointMotorControl2(\n",
    "            bodyUniqueId=self.modelId,\n",
    "            jointIndex=1,\n",
    "            controlMode=p.TORQUE_CONTROL,\n",
    "            force=torque\n",
    "        )\n",
    "\n",
    "        p.stepSimulation()\n",
    "\n",
    "        img = p.getCameraImage(self._render_width, self._render_height, \n",
    "                           viewMatrix=self.view_matrix,\n",
    "                           projectionMatrix=self.projection_matrix,\n",
    "                           renderer=p.ER_TINY_RENDERER)\n",
    "        rgb = np.array(img[2]).reshape((self._render_height, self._render_width, 4))[:,:,:3]\n",
    "        self.frames.append(rgb)\n",
    "\n",
    "        if self.stepCounter % 100 == 0:\n",
    "            print(self.stepCounter)\n",
    "\n",
    "        obs=self._get_obs()\n",
    "        reward=self._calculate_reward(obs, action)\n",
    "\n",
    "        self.stepCounter +=1\n",
    "        truncated = bool(self.stepCounter >= 200)\n",
    "        terminated = False\n",
    "\n",
    "        return obs, reward, terminated, truncated, {}\n",
    "\n",
    "    def _get_obs(self):\n",
    "        jointState = p.getJointState(self.modelId, 1)\n",
    "        theta, theta_dot = jointState[0], jointState[1]\n",
    "        theta = (theta + np.pi) % (2*np.pi) - np.pi # 각도 정규화\n",
    "        \n",
    "        return np.array([np.cos(theta), np.sin(theta), theta_dot], dtype=np.float32)\n",
    "    \n",
    "    def _calculate_reward(self, obs, action):\n",
    "        cos_theta, sin_theta, theta_dot = obs\n",
    "        theta = np.arctan2(sin_theta, cos_theta)\n",
    "        torque= float(action)\n",
    "        reward = -(theta**2 + 0.1 *theta_dot**2 + 0.001*torque**2)\n",
    "\n",
    "        return reward \n",
    "    \n",
    "    def render(self):\n",
    "        pass\n",
    "\n",
    "    def close(self):\n",
    "        videoFile = os.path.join(self.videoPath, \"test.mp4\")\n",
    "        print(f\"video recording start ... {videoFile}\")\n",
    "        video = cv2.VideoWriter(videoFile, cv2.VideoWriter.fourcc(*'mp4v'), 30, (self._render_width, self._render_height))\n",
    "        for frame in self.frames:\n",
    "            video.write(cv2.cvtColor(frame, cv2.COLOR_RGB2BGR))\n",
    "        video.release()\n",
    "\n",
    "        p.disconnect(self.client)\n",
    "\n",
    "print(\"클래스 정의 완료!\")"
   ]
  },
  {
   "cell_type": "markdown",
   "id": "5846a1b2",
   "metadata": {},
   "source": [
    "### 3-4단계: 환경 테스트 - 클래스\n",
    "\n",
    "정의된 환경을 실제로 생성하고, 무작위 행동을 주면서 어떻게 동작하는지 테스트\n",
    "우선, 불러온 펜듈럼이 시뮬에서 제대로 돌아가는지나 보자. "
   ]
  },
  {
   "cell_type": "code",
   "execution_count": null,
   "id": "8c717e5b952d3e30",
   "metadata": {
    "ExecuteTime": {
     "end_time": "2025-10-01T04:23:39.563737Z",
     "start_time": "2025-10-01T04:23:13.402225Z"
    }
   },
   "outputs": [],
   "source": [
    "env = PendulumEnv(render_mode=\"human\", video_path=\"video\")\n",
    "obs, info = env.reset()\n",
    "totalReward = 0\n",
    "\n",
    "print(\"Env start ... \")\n",
    "\n",
    "for i in range(240*3):\n",
    "    action = env.actionSpace.sample()\n",
    "    \n",
    "    obs, reward, terminated, truncated, info = env.step(action)\n",
    "    totalReward += reward\n",
    "\n",
    "    # time.sleep(1./240.)\n",
    "print(f\"{i+1}st episode\")\n",
    "\n",
    "print(\"\\n Env close\")\n",
    "env.close()"
   ]
  },
  {
   "cell_type": "markdown",
   "id": "358be08a",
   "metadata": {},
   "source": [
    "다행히 잘 된다. \n",
    "\n",
    "![alt text](docs/step_5_1.gif)"
   ]
  }
 ],
 "metadata": {
  "kernelspec": {
   "display_name": "test_RL",
   "language": "python",
   "name": "python3"
  },
  "language_info": {
   "codemirror_mode": {
    "name": "ipython",
    "version": 3
   },
   "file_extension": ".py",
   "mimetype": "text/x-python",
   "name": "python",
   "nbconvert_exporter": "python",
   "pygments_lexer": "ipython3",
   "version": "3.10.18"
  }
 },
 "nbformat": 4,
 "nbformat_minor": 5
}
