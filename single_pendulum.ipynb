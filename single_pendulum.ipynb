{
 "cells": [
  {
   "cell_type": "markdown",
   "id": "9bfe3e9f",
   "metadata": {},
   "source": [
    "# PyBullet을 이용한 진자(Pendulum) 강화학습 환경\n",
    "\n",
    "MATLAB의 진자 예제와 유사한 강화학습 환경을 PyBullet으로 구성\n",
    "\n",
    "- **상태**: `[cos(theta), sin(theta), theta_dot]`\n",
    "- **행동**: 진자 관절에 가하는 토크 (-2.0 ~ 2.0)\n",
    "- **보상**: 진자가 위로 설수록, 각속도와 토크가 작을수록 높은 보상 획득."
   ]
  },
  {
   "cell_type": "markdown",
   "id": "b29e2a3a",
   "metadata": {},
   "source": [
    "### 1단계: URDF 파일 생성 (Code)\n",
    "\n",
    "Jupyter Notebook의 매직 명령어 %%writefile을 사용하면 현재 디렉토리에 바로 파일을 생성할 수 있어 편리하다고 함!"
   ]
  },
  {
   "cell_type": "code",
   "execution_count": 1,
   "id": "72e883b8",
   "metadata": {
    "ExecuteTime": {
     "end_time": "2025-09-12T05:06:29.495438Z",
     "start_time": "2025-09-12T05:06:29.489828Z"
    }
   },
   "outputs": [
    {
     "name": "stdout",
     "output_type": "stream",
     "text": [
      "Overwriting models/pendulum.urdf\n"
     ]
    }
   ],
   "source": [
    "%%writefile models/pendulum.urdf\n",
    "<?xml version=\"1.0\"?>\n",
    "<robot name=\"pendulum\">\n",
    "\n",
    "  <link name=\"world\"/>\n",
    "\n",
    "  <link name=\"base\"/>\n",
    "\n",
    "  <link name=\"pole\">\n",
    "    <inertial>\n",
    "      <mass value=\"1.0\"/>\n",
    "      <inertia ixx=\"0.083\" ixy=\"0.0\" ixz=\"0.0\" iyy=\"0.083\" iyz=\"0.0\" izz=\"0.005\"/>\n",
    "    </inertial>\n",
    "    <visual>\n",
    "      <geometry>\n",
    "        <cylinder length=\"1\" radius=\"0.05\"/>\n",
    "      </geometry>\n",
    "      <material name=\"red\">\n",
    "          <color rgba=\"1 0.2 0.2 1\"/>\n",
    "      </material>\n",
    "    </visual>\n",
    "    <collision>\n",
    "      <geometry>\n",
    "        <cylinder length=\"1\" radius=\"0.05\"/>\n",
    "      </geometry>\n",
    "    </collision>\n",
    "  </link>\n",
    "\n",
    "  <joint name=\"world_fixed\" type=\"fixed\">\n",
    "    <parent link=\"world\"/>\n",
    "    <child link=\"base\"/>\n",
    "  </joint>\n",
    "  \n",
    "  <joint name=\"hinge\" type=\"revolute\">\n",
    "    <parent link=\"base\"/>\n",
    "    <child link=\"pole\"/>\n",
    "    <axis xyz=\"0 1 0\"/>\n",
    "    <limit effort=\"3\" lower=\"-3.1415\" upper=\"3.1415\" velocity=\"15\"/>\n",
    "    <origin rpy=\"0 0 0\" xyz=\"0 0 0.5\"/>\n",
    "  </joint>\n",
    "\n",
    "</robot>"
   ]
  },
  {
   "cell_type": "markdown",
   "id": "eddf58e1",
   "metadata": {},
   "source": [
    "### 2단계: 라이브러리 임포트 (Code)\n",
    "\n",
    "환경 구성과 테스트에 필요한 라이브러리들을 불러오기"
   ]
  },
  {
   "cell_type": "code",
   "execution_count": 2,
   "id": "03b9f31b",
   "metadata": {
    "ExecuteTime": {
     "end_time": "2025-09-12T05:06:39.254598Z",
     "start_time": "2025-09-12T05:06:39.056145Z"
    }
   },
   "outputs": [
    {
     "name": "stdout",
     "output_type": "stream",
     "text": [
      "라이브러리 임포트 완료!\n"
     ]
    },
    {
     "name": "stderr",
     "output_type": "stream",
     "text": [
      "pybullet build time: Jan 29 2025 23:16:28\n"
     ]
    }
   ],
   "source": [
    "import gymnasium as gym\n",
    "from gymnasium import spaces\n",
    "import pybullet as p\n",
    "import pybullet_data\n",
    "import numpy as np\n",
    "import time\n",
    "\n",
    "print(\"라이브러리 임포트 완료!\")"
   ]
  },
  {
   "cell_type": "markdown",
   "id": "232e69d4",
   "metadata": {},
   "source": [
    "### 3단계: PyBullet 진자 환경 클래스 정의\n",
    "\n",
    "핵심이 되는 gym.Env 상속 클래스 정의"
   ]
  },
  {
   "cell_type": "code",
   "execution_count": 3,
   "id": "663c71be",
   "metadata": {
    "ExecuteTime": {
     "end_time": "2025-09-12T05:06:41.154713Z",
     "start_time": "2025-09-12T05:06:41.143736Z"
    }
   },
   "outputs": [
    {
     "name": "stdout",
     "output_type": "stream",
     "text": [
      "PyBulletPendulumEnv 클래스 정의 완료!\n"
     ]
    }
   ],
   "source": [
    "class PyBulletPendulumEnv(gym.Env):\n",
    "    metadata = {\"render_modes\": [\"human\"]}\n",
    "\n",
    "    def __init__(self, render_mode='human'):\n",
    "        super(PyBulletPendulumEnv, self).__init__()\n",
    "\n",
    "        self.render_mode = render_mode\n",
    "        if self.render_mode == 'human':\n",
    "            # 이전에 연결된 세션이 있다면 종료 후 새로 연결\n",
    "            try:\n",
    "                p.disconnect()\n",
    "            except p.error:\n",
    "                pass\n",
    "            self.client = p.connect(p.GUI)\n",
    "        else:\n",
    "            self.client = p.connect(p.DIRECT)\n",
    "\n",
    "        p.setAdditionalSearchPath(pybullet_data.getDataPath())\n",
    "        p.setGravity(0, 0, -9.8)\n",
    "\n",
    "        # URDF 파일 로드 (같은 디렉토리에 생성됨)\n",
    "        self.urdf_path = \"models/pendulum.urdf\"\n",
    "        print(f\"Loading URDF from: {self.urdf_path}\")\n",
    "        self.pendulumId = p.loadURDF(self.urdf_path)\n",
    "\n",
    "        # 행동 공간 (Torque)\n",
    "        self.max_torque = 2.0\n",
    "        self.action_space = spaces.Box(\n",
    "            low=-self.max_torque,\n",
    "            high=self.max_torque,\n",
    "            shape=(1,),\n",
    "            dtype=np.float32\n",
    "        )\n",
    "\n",
    "        # 관측 공간 [cos(theta), sin(theta), theta_dot]\n",
    "        high = np.array([1.0, 1.0, 15.0], dtype=np.float32) # max velocity from URDF\n",
    "        self.observation_space = spaces.Box(low=-high, high=high, dtype=np.float32)\n",
    "        \n",
    "        self.step_counter = 0\n",
    "\n",
    "    def reset(self, seed=None, options=None):\n",
    "        super().reset(seed=seed)\n",
    "        self.step_counter = 0\n",
    "\n",
    "        init_angle = self.np_random.uniform(low=-np.pi, high=np.pi)\n",
    "        init_velocity = self.np_random.uniform(low=-1.0, high=1.0)\n",
    "        p.resetJointState(self.pendulumId, 0, targetValue=init_angle, targetVelocity=init_velocity)\n",
    "\n",
    "        return self._get_obs(), {}\n",
    "\n",
    "    def step(self, action):\n",
    "        torque = action[0]\n",
    "\n",
    "        p.setJointMotorControl2(\n",
    "            bodyUniqueId=self.pendulumId,\n",
    "            jointIndex=0,\n",
    "            controlMode=p.TORQUE_CONTROL,\n",
    "            force=torque\n",
    "        )\n",
    "        p.stepSimulation()\n",
    "\n",
    "        obs = self._get_obs()\n",
    "        reward = self._calculate_reward(obs, action)\n",
    "        \n",
    "        self.step_counter += 1\n",
    "        truncated = self.step_counter >= 200\n",
    "        terminated = False\n",
    "\n",
    "        return obs, reward, terminated, truncated, {}\n",
    "\n",
    "    def _get_obs(self):\n",
    "        joint_state = p.getJointState(self.pendulumId, 0)\n",
    "        theta, theta_dot = joint_state[0], joint_state[1]\n",
    "        theta = (theta + np.pi) % (2 * np.pi) - np.pi # 각도 정규화\n",
    "        return np.array([np.cos(theta), np.sin(theta), theta_dot], dtype=np.float32)\n",
    "\n",
    "    def _calculate_reward(self, obs, action):\n",
    "        cos_theta, sin_theta, theta_dot = obs\n",
    "        theta = np.arctan2(sin_theta, cos_theta)\n",
    "        torque = action[0]\n",
    "        reward = -(theta**2 + 0.1 * theta_dot**2 + 0.001 * torque**2)\n",
    "        return reward\n",
    "\n",
    "    def render(self):\n",
    "        pass\n",
    "\n",
    "    def close(self):\n",
    "        p.disconnect(self.client)\n",
    "\n",
    "print(\"PyBulletPendulumEnv 클래스 정의 완료!\")"
   ]
  },
  {
   "cell_type": "markdown",
   "id": "5846a1b2",
   "metadata": {},
   "source": [
    "### 4단계: 환경 테스트\n",
    "\n",
    "정의된 환경을 실제로 생성하고, 무작위 행동을 주면서 어떻게 동작하는지 테스트"
   ]
  },
  {
   "cell_type": "code",
   "execution_count": 8,
   "id": "1e762737",
   "metadata": {
    "ExecuteTime": {
     "end_time": "2025-09-12T05:06:56.552413Z",
     "start_time": "2025-09-12T05:06:55.513314Z"
    }
   },
   "outputs": [
    {
     "name": "stdout",
     "output_type": "stream",
     "text": [
      "Loading URDF from: models/pendulum.urdf\n",
      "startThreads creating 1 threads.\n",
      "starting thread 0\n",
      "환경 테스트 시작...\n",
      "started thread 0 \n",
      "argc=2\n",
      "argv[0] = --unused\n",
      "argv[1] = --start_demo_name=Physics Server\n",
      "ExampleBrowserThreadFunc started\n",
      "X11 functions dynamically loaded using dlopen/dlsym OK!\n",
      "X11 functions dynamically loaded using dlopen/dlsym OK!\n",
      "Creating context\n",
      "Created GL 3.3 context\n",
      "Direct GLX rendering context obtained\n",
      "Making context current\n",
      "GL_VENDOR=NVIDIA Corporation\n",
      "GL_RENDERER=NVIDIA GeForce RTX 4080 SUPER/PCIe/SSE2\n",
      "GL_VERSION=3.3.0 NVIDIA 580.65.06\n",
      "GL_SHADING_LANGUAGE_VERSION=3.30 NVIDIA via Cg compiler\n",
      "pthread_getconcurrency()=0\n",
      "Version = 3.3.0 NVIDIA 580.65.06\n",
      "Vendor = NVIDIA Corporation\n",
      "Renderer = NVIDIA GeForce RTX 4080 SUPER/PCIe/SSE2\n",
      "b3Printf: Selected demo: Physics Server\n",
      "startThreads creating 1 threads.\n",
      "starting thread 0\n",
      "started thread 0 \n",
      "MotionThreadFunc thread started\n",
      "b3Printf: b3Warning[examples/Importers/ImportURDFDemo/BulletUrdfImporter.cpp,126]:\n",
      "\n",
      "b3Printf: No inertial data for link, using mass=1, localinertiadiagonal = 1,1,1, identity local inertial frame\n",
      "b3Printf: b3Warning[examples/Importers/ImportURDFDemo/BulletUrdfImporter.cpp,126]:\n",
      "\n",
      "b3Printf: base\n",
      "ven = NVIDIA Corporation\n",
      "ven = NVIDIA Corporation\n",
      "에피소드 1: 총 보상 = -0.31\n",
      "에피소드 2: 총 보상 = -0.23\n",
      "에피소드 3: 총 보상 = -0.28\n",
      "에피소드 4: 총 보상 = -0.26\n",
      "에피소드 5: 총 보상 = -0.26\n",
      "에피소드 6: 총 보상 = -0.28\n",
      "에피소드 7: 총 보상 = -0.26\n",
      "에피소드 8: 총 보상 = -0.27\n",
      "에피소드 9: 총 보상 = -0.28\n",
      "에피소드 10: 총 보상 = -0.26\n",
      "\n",
      "환경 테스트 종료.\n",
      "numActiveThreads = 0\n",
      "PyBullet 연결이 종료되었습니다.\n",
      "stopping threads\n",
      "Thread with taskId 0 exiting\n",
      "Thread TERMINATED\n",
      "destroy semaphore\n",
      "semaphore destroyed\n",
      "destroy main semaphore\n",
      "main semaphore destroyed\n",
      "finished\n",
      "numActiveThreads = 0\n",
      "btShutDownExampleBrowser stopping threads\n",
      "Thread with taskId 0 exiting\n",
      "Thread TERMINATED\n",
      "destroy semaphore\n",
      "semaphore destroyed\n",
      "destroy main semaphore\n",
      "main semaphore destroyed\n"
     ]
    }
   ],
   "source": [
    "# 환경 생성\n",
    "env = PyBulletPendulumEnv(render_mode='human')\n",
    "obs, info = env.reset()\n",
    "\n",
    "print(\"환경 테스트 시작...\")\n",
    "\n",
    "for episode in range(10): # 3번의 에피소드 테스트\n",
    "    obs, info = env.reset()\n",
    "    total_reward = 0\n",
    "    \n",
    "    for i in range(2000):\n",
    "        # 무작위 행동 샘플링\n",
    "        action = env.action_space.sample()\n",
    "        obs, reward, terminated, truncated, info = env.step(action)\n",
    "        total_reward += reward\n",
    "\n",
    "        # GUI 환경을 위한 딜레이\n",
    "        time.sleep(1./240.)\n",
    "        \n",
    "        if terminated or truncated:\n",
    "            break\n",
    "            \n",
    "    print(f\"에피소드 {episode + 1}: 총 보상 = {total_reward:.2f}\")\n",
    "\n",
    "print(\"\\n환경 테스트 종료.\")\n",
    "\n",
    "# 환경 종료\n",
    "env.close()\n",
    "print(\"PyBullet 연결이 종료되었습니다.\")"
   ]
  },
  {
   "cell_type": "code",
   "execution_count": null,
   "id": "131beb6d8a5b77bf",
   "metadata": {},
   "outputs": [],
   "source": []
  }
 ],
 "metadata": {
  "kernelspec": {
   "display_name": "test_RL",
   "language": "python",
   "name": "python3"
  },
  "language_info": {
   "codemirror_mode": {
    "name": "ipython",
    "version": 3
   },
   "file_extension": ".py",
   "mimetype": "text/x-python",
   "name": "python",
   "nbconvert_exporter": "python",
   "pygments_lexer": "ipython3",
   "version": "3.10.18"
  }
 },
 "nbformat": 4,
 "nbformat_minor": 5
}
