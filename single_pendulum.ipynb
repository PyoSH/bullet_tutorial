{
 "cells": [
  {
   "cell_type": "markdown",
   "id": "9bfe3e9f",
   "metadata": {},
   "source": [
    "# PyBullet을 이용한 진자(Pendulum) 강화학습 환경\n",
    "\n",
    "MATLAB의 진자 예제와 유사한 강화학습 환경을 PyBullet으로 구성\n",
    "\n",
    "- **상태**: `[cos(theta), sin(theta), theta_dot]`\n",
    "- **행동**: 진자 관절에 가하는 토크 (-2.0 ~ 2.0)\n",
    "- **보상**: 진자가 위로 설수록, 각속도와 토크가 작을수록 높은 보상 획득."
   ]
  },
  {
   "cell_type": "markdown",
   "id": "b29e2a3a",
   "metadata": {},
   "source": [
    "### 1단계: URDF 파일 생성 (Code)\n",
    "\n",
    "Jupyter Notebook의 매직 명령어 %%writefile을 사용하면 현재 디렉토리에 바로 파일을 생성할 수 있어 편리하다고 함!"
   ]
  },
  {
   "cell_type": "code",
   "id": "72e883b8",
   "metadata": {},
   "source": [
    "%%writefile models/pendulum.urdf\n",
    "<?xml version=\"1.0\"?>\n",
    "<robot name=\"pendulum\">\n",
    "  <link name=\"base\"/>\n",
    "\n",
    "  <link name=\"pole\">\n",
    "    <inertial>\n",
    "      <mass value=\"1.0\"/>\n",
    "      <inertia ixx=\"0.083\" ixy=\"0.0\" ixz=\"0.0\" iyy=\"0.083\" iyz=\"0.0\" izz=\"0.005\"/>\n",
    "    </inertial>\n",
    "    <visual>\n",
    "      <geometry>\n",
    "        <cylinder length=\"1\" radius=\"0.05\"/>\n",
    "      </geometry>\n",
    "      <material name=\"red\">\n",
    "          <color rgba=\"1 0.2 0.2 1\"/>\n",
    "      </material>\n",
    "    </visual>\n",
    "    <collision>\n",
    "      <geometry>\n",
    "        <cylinder length=\"1\" radius=\"0.05\"/>\n",
    "      </geometry>\n",
    "    </collision>\n",
    "  </link>\n",
    "\n",
    "  <joint name=\"hinge\" type=\"revolute\">\n",
    "    <parent link=\"base\"/>\n",
    "    <child link=\"pole\"/>\n",
    "    <axis xyz=\"0 1 0\"/>\n",
    "    <limit effort=\"3\" lower=\"-3.1415\" upper=\"3.1415\" velocity=\"15\"/>\n",
    "    <origin rpy=\"0 0 0\" xyz=\"0 0 0.5\"/>\n",
    "  </joint>\n",
    "\n",
    "</robot>"
   ],
   "outputs": [],
   "execution_count": null
  },
  {
   "cell_type": "markdown",
   "id": "eddf58e1",
   "metadata": {},
   "source": [
    "### 2단계: 라이브러리 임포트 (Code)\n",
    "\n",
    "환경 구성과 테스트에 필요한 라이브러리들을 불러오기"
   ]
  },
  {
   "cell_type": "code",
   "id": "03b9f31b",
   "metadata": {
    "ExecuteTime": {
     "end_time": "2025-09-14T10:13:31.571849Z",
     "start_time": "2025-09-14T10:13:31.428215Z"
    }
   },
   "source": [
    "import gymnasium as gym\n",
    "from gymnasium import spaces\n",
    "import pybullet as p\n",
    "import pybullet_data\n",
    "import numpy as np\n",
    "import cv2\n",
    "import time\n",
    "print(\"라이브러리 임포트 완료!\")"
   ],
   "outputs": [
    {
     "name": "stdout",
     "output_type": "stream",
     "text": [
      "라이브러리 임포트 완료!\n"
     ]
    },
    {
     "name": "stderr",
     "output_type": "stream",
     "text": [
      "pybullet build time: May 17 2025 21:05:07\n"
     ]
    }
   ],
   "execution_count": 2
  },
  {
   "metadata": {},
   "cell_type": "markdown",
   "source": [
    "## 3단계: 시뮬 구성하기\n",
    "### 3-1 막대와 바닥과 중력 "
   ],
   "id": "7c835052ad183d2e"
  },
  {
   "metadata": {
    "ExecuteTime": {
     "end_time": "2025-09-14T10:16:34.311431Z",
     "start_time": "2025-09-14T10:16:29.292351Z"
    }
   },
   "cell_type": "code",
   "source": [
    "URDF_PATH = \"models/pendulum.urdf\" # 실제 URDF 파일 경로\n",
    "\n",
    "try:\n",
    "    client = p.connect(p.DIRECT)\n",
    "    p.setAdditionalSearchPath(pybullet_data.getDataPath())\n",
    "    \n",
    "    robot_id = p.loadURDF(URDF_PATH)\n",
    "\n",
    "    # 1. 전체 조인트 개수 확인\n",
    "    num_joints = p.getNumJoints(robot_id)\n",
    "    print(f\"'{URDF_PATH}'에 총 {num_joints}개의 조인트가 있습니다.\")\n",
    "    print(\"-\" * 40)\n",
    "\n",
    "    # 2. 각 조인트의 정보 출력\n",
    "    for i in range(num_joints):\n",
    "        joint_info = p.getJointInfo(robot_id, i)\n",
    "        \n",
    "        joint_index = joint_info[0]\n",
    "        joint_name = joint_info[1].decode('utf-8') # byte string을 일반 string으로 변환\n",
    "        joint_type = joint_info[2]\n",
    "        child_link_name = joint_info[12].decode('utf-8')\n",
    "        \n",
    "        print(f\"  인덱스 (Index): {joint_index}\")\n",
    "        print(f\"  이름 (Name): {joint_name}\")\n",
    "        print(f\"  타입 (Type): {joint_type} (REVOLUTE=0, FIXED=4 등)\")\n",
    "        print(f\"  연결된 링크 (child Link): {child_link_name}\")\n",
    "        print(\"-\" * 40)\n",
    "\n",
    "finally:\n",
    "    if p.isConnected():\n",
    "        p.disconnect()"
   ],
   "id": "49d0068930734356",
   "outputs": [
    {
     "name": "stdout",
     "output_type": "stream",
     "text": [
      "'models/pendulum.urdf'에 총 3개의 조인트가 있습니다.\n",
      "----------------------------------------\n",
      "  인덱스 (Index): 0\n",
      "  이름 (Name): fixed_base\n",
      "  타입 (Type): 4 (REVOLUTE=0, FIXED=4 등)\n",
      "  연결된 링크 (child Link): base\n",
      "----------------------------------------\n",
      "  인덱스 (Index): 1\n",
      "  이름 (Name): hinge\n",
      "  타입 (Type): 0 (REVOLUTE=0, FIXED=4 등)\n",
      "  연결된 링크 (child Link): pole\n",
      "----------------------------------------\n",
      "  인덱스 (Index): 2\n",
      "  이름 (Name): fixed_ball\n",
      "  타입 (Type): 4 (REVOLUTE=0, FIXED=4 등)\n",
      "  연결된 링크 (child Link): ball\n",
      "----------------------------------------\n",
      "5초 후 종료됩니다...\n"
     ]
    }
   ],
   "execution_count": 4
  },
  {
   "metadata": {
    "ExecuteTime": {
     "end_time": "2025-09-14T09:09:09.624486Z",
     "start_time": "2025-09-14T09:08:45.102175Z"
    }
   },
   "cell_type": "code",
   "source": [
    "width, height = 640, 480\n",
    "frames = []\n",
    "\n",
    "p.connect(p.DIRECT)\n",
    "p.setAdditionalSearchPath(pybullet_data.getDataPath())\n",
    "p.loadURDF(\"plane.urdf\")\n",
    "p.setGravity(0, 0, -9.81)\n",
    "urdf_path = \"/models/stick.urdf\"\n",
    "print(urdf_path)\n",
    "\n",
    "pendulum_id = p.loadURDF(urdf_path, basePosition=[0, 0, 1], useFixedBase=False)\n",
    "\n",
    "for step in range(240*5):\n",
    "    p.stepSimulation()\n",
    "\n",
    "    img = p.getCameraImage(width, height, renderer=p.ER_TINY_RENDERER)\n",
    "    rgb = np.array(img[2]).reshape((height, width, 4))[:,:,:3]\n",
    "    frames.append(rgb)\n",
    "\n",
    "    if step % 100 == 0:\n",
    "        print(step)\n",
    "        \n",
    "video = cv2.VideoWriter('video/test.mp4', cv2.VideoWriter.fourcc(*'avc1'), 20.0, (width, height))\n",
    "for frame in frames:\n",
    "    video.write(cv2.cvtColor(frame, cv2.COLOR_RGB2BGR))\n",
    "video.release()\n",
    "\n",
    "p.disconnect()"
   ],
   "id": "845cb9182b08beb3",
   "outputs": [
    {
     "name": "stdout",
     "output_type": "stream",
     "text": [
      "/models/stick.urdf\n",
      "0\n",
      "100\n",
      "200\n",
      "300\n",
      "400\n",
      "500\n",
      "600\n",
      "700\n",
      "800\n",
      "900\n",
      "1000\n",
      "1100\n"
     ]
    }
   ],
   "execution_count": 4
  },
  {
   "metadata": {},
   "cell_type": "markdown",
   "source": [
    "이걸 돌리고 나면 GIF 파일로 확인할 수 있는 것처럼 막대가 낙하하고, 바닥에 부딪혀 넘어지는 것이 확인되어야 한다.\n",
    "![stick_plane_gravity](docs/step_3_1.gif) "
   ],
   "id": "11c6264b3088dbd1"
  },
  {
   "metadata": {},
   "cell_type": "markdown",
   "source": "### 3-2 고정되고, 회전하는 막대",
   "id": "e6b880d42468f303"
  },
  {
   "metadata": {
    "ExecuteTime": {
     "end_time": "2025-09-14T10:47:14.752281Z",
     "start_time": "2025-09-14T10:47:05.317899Z"
    }
   },
   "cell_type": "code",
   "source": [
    "width, height = 640, 480\n",
    "frames = []\n",
    "\n",
    "p.connect(p.DIRECT)\n",
    "p.setAdditionalSearchPath(pybullet_data.getDataPath())\n",
    "p.loadURDF(\"plane.urdf\")\n",
    "p.setGravity(0, 0, -9.81)\n",
    "urdf_path = \"/Users/seunghyunpyo/PycharmProjects/bullet_tutorial/models/pendulum.urdf\"\n",
    "print(urdf_path)\n",
    "\n",
    "poleStartPos = [0,0,0]\n",
    "poleStartOrientation = p.getQuaternionFromEuler([0,0,0])\n",
    "pendulum_id = p.loadURDF(urdf_path, basePosition=poleStartPos, baseOrientation=poleStartOrientation, useFixedBase=True)\n",
    "\n",
    "initial_angle = np.pi*(1/3)  # 새 URDF의 hinge 조인트는 첫 번째(유일한) 조인트이므로 인덱스는 0입니다.\n",
    "p.resetJointState(\n",
    "    bodyUniqueId=pendulum_id,\n",
    "    jointIndex=1,\n",
    "    targetValue=initial_angle\n",
    ")\n",
    "print(f\"진자를 {np.rad2deg(initial_angle):.0f}도 위치에서 시작\")\n",
    "\n",
    "p.setJointMotorControl2(\n",
    "        bodyUniqueId=pendulum_id,\n",
    "        jointIndex=1,\n",
    "        controlMode=p.VELOCITY_CONTROL,\n",
    "        force=0\n",
    "    )\n",
    "\n",
    "for step in range(240*2):\n",
    "    p.stepSimulation()\n",
    "\n",
    "    img = p.getCameraImage(width, height, renderer=p.ER_TINY_RENDERER)\n",
    "    rgb = np.array(img[2]).reshape((height, width, 4))[:,:,:3]\n",
    "    frames.append(rgb)\n",
    "\n",
    "    if step % 100 == 0:\n",
    "        print(step)\n",
    "\n",
    "video = cv2.VideoWriter('video/test.mp4', cv2.VideoWriter.fourcc(*'avc1'), 20.0, (width, height))\n",
    "for frame in frames:\n",
    "    video.write(cv2.cvtColor(frame, cv2.COLOR_RGB2BGR))\n",
    "video.release()\n",
    "\n",
    "p.disconnect()"
   ],
   "id": "d85d2518abc32ad7",
   "outputs": [
    {
     "name": "stdout",
     "output_type": "stream",
     "text": [
      "/Users/seunghyunpyo/PycharmProjects/bullet_tutorial/models/pendulum.urdf\n",
      "진자를 60도 위치에서 시작\n",
      "0\n",
      "100\n",
      "200\n",
      "300\n",
      "400\n"
     ]
    }
   ],
   "execution_count": 21
  },
  {
   "cell_type": "markdown",
   "id": "232e69d4",
   "metadata": {},
   "source": [
    "### 4단계: 클래스로 PyBullet 진자 환경 정의하기\n",
    "여기에 클래스 작성하기"
   ]
  },
  {
   "cell_type": "code",
   "id": "663c71be",
   "metadata": {},
   "source": "",
   "outputs": [],
   "execution_count": null
  },
  {
   "cell_type": "markdown",
   "id": "5846a1b2",
   "metadata": {},
   "source": [
    "### 5단계: 환경 테스트 - 클래스\n",
    "\n",
    "정의된 환경을 실제로 생성하고, 무작위 행동을 주면서 어떻게 동작하는지 테스트\n",
    "우선, 불러온 펜듈럼이 시뮬에서 제대로 돌아가는지나 보자. "
   ]
  },
  {
   "cell_type": "markdown",
   "id": "e6a57fcc7f4da727",
   "metadata": {},
   "source": ""
  },
  {
   "metadata": {},
   "cell_type": "code",
   "source": "",
   "id": "8c717e5b952d3e30",
   "outputs": [],
   "execution_count": null
  },
  {
   "metadata": {},
   "cell_type": "code",
   "source": "",
   "id": "3c3bd0b86476ddff",
   "outputs": [],
   "execution_count": null
  }
 ],
 "metadata": {
  "kernelspec": {
   "display_name": "test_RL",
   "language": "python",
   "name": "python3"
  },
  "language_info": {
   "codemirror_mode": {
    "name": "ipython",
    "version": 3
   },
   "file_extension": ".py",
   "mimetype": "text/x-python",
   "name": "python",
   "nbconvert_exporter": "python",
   "pygments_lexer": "ipython3",
   "version": "3.10.18"
  }
 },
 "nbformat": 4,
 "nbformat_minor": 5
}
